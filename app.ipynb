{
 "cells": [
  {
   "cell_type": "code",
   "execution_count": null,
   "metadata": {},
   "outputs": [],
   "source": [
    "from core.chromatograph import Chrom, ChromConfig\n",
    "from core.analyte import Channels"
   ]
  },
  {
   "cell_type": "code",
   "execution_count": null,
   "metadata": {},
   "outputs": [],
   "source": [
    "config = ChromConfig(\n",
    "    omega=10,\n",
    "    tau=.4,\n",
    "    factor=8,\n",
    ")\n",
    "\n",
    "chrom = Chrom(\n",
    "    config=config,\n",
    ")"
   ]
  },
  {
   "cell_type": "code",
   "execution_count": null,
   "metadata": {},
   "outputs": [],
   "source": [
    "chrom.calibrate_dark_data(\n",
    "    n_frames=1_000,\n",
    "    verbose=True,\n",
    "    show=True,\n",
    ")"
   ]
  },
  {
   "cell_type": "code",
   "execution_count": null,
   "metadata": {},
   "outputs": [],
   "source": [
    "# base_data = chrom.read_base_data(\n",
    "#     n_frames=1,\n",
    "#     recycle=True,\n",
    "#     show=True,\n",
    "# )"
   ]
  },
  {
   "cell_type": "code",
   "execution_count": null,
   "metadata": {},
   "outputs": [],
   "source": [
    "chrom.calibrate_base_data(\n",
    "    n_frames=1_000,\n",
    "    verbose=True,\n",
    "    show=True,\n",
    ")"
   ]
  },
  {
   "cell_type": "code",
   "execution_count": null,
   "metadata": {},
   "outputs": [],
   "source": [
    "channels = Channels(\n",
    "    [(225, 10), (250, 10), (275, 10), (325, 50)],\n",
    "    factor=config.factor,\n",
    ")\n",
    "channels = channels.add_ratio(\n",
    "    (1, 2),\n",
    ")\n",
    "channels = channels.add_ratio(\n",
    "    (3, 4),\n",
    ")"
   ]
  },
  {
   "cell_type": "code",
   "execution_count": null,
   "metadata": {},
   "outputs": [],
   "source": [
    "absorbance = chrom.read(\n",
    "    duration=100,\n",
    "    channels=channels,\n",
    "    show=True,\n",
    ")"
   ]
  },
  {
   "cell_type": "code",
   "execution_count": null,
   "metadata": {},
   "outputs": [],
   "source": [
    "signal = chrom.calculate_signal(\n",
    "    absorbance=absorbance,\n",
    "    channels=channels,\n",
    "    save=True,\n",
    ")"
   ]
  },
  {
   "cell_type": "code",
   "execution_count": null,
   "metadata": {},
   "outputs": [],
   "source": [
    "import pandas as pd\n",
    "\n",
    "df = pd.DataFrame(\n",
    "    signal,\n",
    "    columns=[str(channel) for channel in channels],\n",
    ")\n",
    "df.plot()\n",
    "\n",
    "df.describe()"
   ]
  },
  {
   "cell_type": "code",
   "execution_count": null,
   "metadata": {},
   "outputs": [],
   "source": []
  }
 ],
 "metadata": {
  "kernelspec": {
   "display_name": "Python 3 (ipykernel)",
   "language": "python",
   "name": "python3"
  },
  "language_info": {
   "codemirror_mode": {
    "name": "ipython",
    "version": 3
   },
   "file_extension": ".py",
   "mimetype": "text/x-python",
   "name": "python",
   "nbconvert_exporter": "python",
   "pygments_lexer": "ipython3",
   "version": "3.10.11"
  }
 },
 "nbformat": 4,
 "nbformat_minor": 4
}
